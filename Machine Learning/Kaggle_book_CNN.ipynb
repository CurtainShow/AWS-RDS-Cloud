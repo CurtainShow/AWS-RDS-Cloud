{
  "cells": [
    {
      "cell_type": "markdown",
      "metadata": {
        "id": "TTr4ZRS9BNcY"
      },
      "source": []
    },
    {
      "cell_type": "markdown",
      "metadata": {
        "id": "ANWW7hWOBOcd"
      },
      "source": [
        "# Import Google Drive access (Colab)"
      ]
    },
    {
      "cell_type": "code",
      "execution_count": null,
      "metadata": {
        "colab": {
          "base_uri": "https://localhost:8080/"
        },
        "id": "J5WlkEenOlh7",
        "outputId": "635d5a15-8914-4040-eb08-02a2a07d4c04"
      },
      "outputs": [
        {
          "name": "stdout",
          "output_type": "stream",
          "text": [
            "Mounted at /content/drive\n"
          ]
        }
      ],
      "source": [
        "from google.colab import drive\n",
        "drive.mount('/content/drive')"
      ]
    },
    {
      "cell_type": "markdown",
      "metadata": {
        "id": "t1Ut3_3KBVEO"
      },
      "source": [
        "# Check if the Colab GPU is available. "
      ]
    },
    {
      "cell_type": "code",
      "execution_count": null,
      "metadata": {
        "colab": {
          "base_uri": "https://localhost:8080/"
        },
        "id": "Bm7Ts-YD_doT",
        "outputId": "37fdb86a-0eaf-4843-80fa-67900ec53ab5"
      },
      "outputs": [
        {
          "name": "stdout",
          "output_type": "stream",
          "text": [
            "Your runtime has 89.6 gigabytes of available RAM\n",
            "\n",
            "You are using a high-RAM runtime!\n"
          ]
        }
      ],
      "source": [
        "from psutil import virtual_memory\n",
        "ram_gb = virtual_memory().total / 1e9\n",
        "print('Your runtime has {:.1f} gigabytes of available RAM\\n'.format(ram_gb))\n",
        "\n",
        "if ram_gb < 20:\n",
        "  print('Not using a high-RAM runtime')\n",
        "else:\n",
        "  print('You are using a high-RAM runtime!')"
      ]
    },
    {
      "cell_type": "markdown",
      "metadata": {
        "id": "QU2-q8HrBppc"
      },
      "source": [
        "# Import Library and set access Variable "
      ]
    },
    {
      "cell_type": "code",
      "execution_count": null,
      "metadata": {
        "id": "wpW2xW-9Ojmr"
      },
      "outputs": [],
      "source": [
        "from sklearn.metrics import accuracy_score,classification_report\n",
        "import numpy as np\n",
        "import matplotlib.pyplot as plt\n",
        "from sklearn import svm\n",
        "from tensorflow import keras\n",
        "from keras import layers\n",
        "import tensorflow as tf\n",
        "import pandas as pd\n",
        "import seaborn as sns\n",
        "from sklearn.model_selection import train_test_split\n"
      ]
    },
    {
      "cell_type": "code",
      "execution_count": null,
      "metadata": {
        "id": "4js2rrp6Ojmy"
      },
      "outputs": [],
      "source": [
        "%load_ext tensorboard"
      ]
    },
    {
      "cell_type": "code",
      "execution_count": null,
      "metadata": {
        "id": "R6QxgcgHOjmz"
      },
      "outputs": [],
      "source": [
        "import datetime, os\n",
        "\n",
        "logdir = os.path.join(\"logs\", datetime.datetime.now().strftime(\"%Y%m%d-%H%M%S\"))"
      ]
    },
    {
      "cell_type": "code",
      "execution_count": null,
      "metadata": {
        "colab": {
          "base_uri": "https://localhost:8080/"
        },
        "id": "0zoFMORWOjm0",
        "outputId": "4766f009-e1ca-460b-e4f3-ed78599b442a"
      },
      "outputs": [
        {
          "name": "stdout",
          "output_type": "stream",
          "text": [
            "logs/20230105-221224\n"
          ]
        }
      ],
      "source": [
        "print(logdir)"
      ]
    },
    {
      "cell_type": "markdown",
      "metadata": {
        "id": "JGVcx3gMBzG-"
      },
      "source": [
        "# Test if a GPU is available for the training"
      ]
    },
    {
      "cell_type": "code",
      "execution_count": null,
      "metadata": {
        "colab": {
          "base_uri": "https://localhost:8080/"
        },
        "id": "0tNjzoxBOjm2",
        "outputId": "faeca94c-72ba-40a9-ccee-137ec21c7dda"
      },
      "outputs": [
        {
          "name": "stdout",
          "output_type": "stream",
          "text": [
            "Default GPU Device: /device:GPU:0\n"
          ]
        }
      ],
      "source": [
        "if not tf.test.gpu_device_name():\n",
        "    print('No GPU found. Please use a GPU to train your neural network.')\n",
        "else:\n",
        "    print('Default GPU Device: {}'.format(tf.test.gpu_device_name()))"
      ]
    },
    {
      "cell_type": "markdown",
      "metadata": {
        "id": "u868eaLOB7Fc"
      },
      "source": [
        "# Import Train Dataset "
      ]
    },
    {
      "cell_type": "code",
      "execution_count": null,
      "metadata": {
        "colab": {
          "base_uri": "https://localhost:8080/",
          "height": 583
        },
        "id": "Bju60KHNOjm3",
        "outputId": "5badfaab-076d-45c1-9763-abc538076c66"
      },
      "outputs": [
        {
          "data": {
            "text/html": [
              "\n",
              "  <div id=\"df-3ae57cac-ca49-4213-afd0-e3b088ff7ce2\">\n",
              "    <div class=\"colab-df-container\">\n",
              "      <div>\n",
              "<style scoped>\n",
              "    .dataframe tbody tr th:only-of-type {\n",
              "        vertical-align: middle;\n",
              "    }\n",
              "\n",
              "    .dataframe tbody tr th {\n",
              "        vertical-align: top;\n",
              "    }\n",
              "\n",
              "    .dataframe thead th {\n",
              "        text-align: right;\n",
              "    }\n",
              "</style>\n",
              "<table border=\"1\" class=\"dataframe\">\n",
              "  <thead>\n",
              "    <tr style=\"text-align: right;\">\n",
              "      <th></th>\n",
              "      <th>user_id</th>\n",
              "      <th>book_id</th>\n",
              "      <th>review_id</th>\n",
              "      <th>rating</th>\n",
              "      <th>review_text</th>\n",
              "      <th>date_added</th>\n",
              "      <th>date_updated</th>\n",
              "      <th>read_at</th>\n",
              "      <th>started_at</th>\n",
              "      <th>n_votes</th>\n",
              "      <th>n_comments</th>\n",
              "    </tr>\n",
              "  </thead>\n",
              "  <tbody>\n",
              "    <tr>\n",
              "      <th>0</th>\n",
              "      <td>8842281e1d1347389f2ab93d60773d4d</td>\n",
              "      <td>18245960</td>\n",
              "      <td>dfdbb7b0eb5a7e4c26d59a937e2e5feb</td>\n",
              "      <td>5</td>\n",
              "      <td>This is a special book. It started slow for ab...</td>\n",
              "      <td>Sun Jul 30 07:44:10 -0700 2017</td>\n",
              "      <td>Wed Aug 30 00:00:26 -0700 2017</td>\n",
              "      <td>Sat Aug 26 12:05:52 -0700 2017</td>\n",
              "      <td>Tue Aug 15 13:23:18 -0700 2017</td>\n",
              "      <td>28</td>\n",
              "      <td>1</td>\n",
              "    </tr>\n",
              "    <tr>\n",
              "      <th>1</th>\n",
              "      <td>8842281e1d1347389f2ab93d60773d4d</td>\n",
              "      <td>16981</td>\n",
              "      <td>a5d2c3628987712d0e05c4f90798eb67</td>\n",
              "      <td>3</td>\n",
              "      <td>Recommended by Don Katz. Avail for free in Dec...</td>\n",
              "      <td>Mon Dec 05 10:46:44 -0800 2016</td>\n",
              "      <td>Wed Mar 22 11:37:04 -0700 2017</td>\n",
              "      <td>NaN</td>\n",
              "      <td>NaN</td>\n",
              "      <td>1</td>\n",
              "      <td>0</td>\n",
              "    </tr>\n",
              "    <tr>\n",
              "      <th>2</th>\n",
              "      <td>8842281e1d1347389f2ab93d60773d4d</td>\n",
              "      <td>28684704</td>\n",
              "      <td>2ede853b14dc4583f96cf5d120af636f</td>\n",
              "      <td>3</td>\n",
              "      <td>A fun, fast paced science fiction thriller. I ...</td>\n",
              "      <td>Tue Nov 15 11:29:22 -0800 2016</td>\n",
              "      <td>Mon Mar 20 23:40:27 -0700 2017</td>\n",
              "      <td>Sat Mar 18 23:22:42 -0700 2017</td>\n",
              "      <td>Fri Mar 17 23:45:40 -0700 2017</td>\n",
              "      <td>22</td>\n",
              "      <td>0</td>\n",
              "    </tr>\n",
              "    <tr>\n",
              "      <th>3</th>\n",
              "      <td>8842281e1d1347389f2ab93d60773d4d</td>\n",
              "      <td>27161156</td>\n",
              "      <td>ced5675e55cd9d38a524743f5c40996e</td>\n",
              "      <td>0</td>\n",
              "      <td>Recommended reading to understand what is goin...</td>\n",
              "      <td>Wed Nov 09 17:37:04 -0800 2016</td>\n",
              "      <td>Wed Nov 09 17:38:20 -0800 2016</td>\n",
              "      <td>NaN</td>\n",
              "      <td>NaN</td>\n",
              "      <td>5</td>\n",
              "      <td>1</td>\n",
              "    </tr>\n",
              "    <tr>\n",
              "      <th>4</th>\n",
              "      <td>8842281e1d1347389f2ab93d60773d4d</td>\n",
              "      <td>25884323</td>\n",
              "      <td>332732725863131279a8e345b63ac33e</td>\n",
              "      <td>4</td>\n",
              "      <td>I really enjoyed this book, and there is a lot...</td>\n",
              "      <td>Mon Apr 25 09:31:23 -0700 2016</td>\n",
              "      <td>Mon Apr 25 09:31:23 -0700 2016</td>\n",
              "      <td>Sun Jun 26 00:00:00 -0700 2016</td>\n",
              "      <td>Sat May 28 00:00:00 -0700 2016</td>\n",
              "      <td>9</td>\n",
              "      <td>1</td>\n",
              "    </tr>\n",
              "  </tbody>\n",
              "</table>\n",
              "</div>\n",
              "      <button class=\"colab-df-convert\" onclick=\"convertToInteractive('df-3ae57cac-ca49-4213-afd0-e3b088ff7ce2')\"\n",
              "              title=\"Convert this dataframe to an interactive table.\"\n",
              "              style=\"display:none;\">\n",
              "        \n",
              "  <svg xmlns=\"http://www.w3.org/2000/svg\" height=\"24px\"viewBox=\"0 0 24 24\"\n",
              "       width=\"24px\">\n",
              "    <path d=\"M0 0h24v24H0V0z\" fill=\"none\"/>\n",
              "    <path d=\"M18.56 5.44l.94 2.06.94-2.06 2.06-.94-2.06-.94-.94-2.06-.94 2.06-2.06.94zm-11 1L8.5 8.5l.94-2.06 2.06-.94-2.06-.94L8.5 2.5l-.94 2.06-2.06.94zm10 10l.94 2.06.94-2.06 2.06-.94-2.06-.94-.94-2.06-.94 2.06-2.06.94z\"/><path d=\"M17.41 7.96l-1.37-1.37c-.4-.4-.92-.59-1.43-.59-.52 0-1.04.2-1.43.59L10.3 9.45l-7.72 7.72c-.78.78-.78 2.05 0 2.83L4 21.41c.39.39.9.59 1.41.59.51 0 1.02-.2 1.41-.59l7.78-7.78 2.81-2.81c.8-.78.8-2.07 0-2.86zM5.41 20L4 18.59l7.72-7.72 1.47 1.35L5.41 20z\"/>\n",
              "  </svg>\n",
              "      </button>\n",
              "      \n",
              "  <style>\n",
              "    .colab-df-container {\n",
              "      display:flex;\n",
              "      flex-wrap:wrap;\n",
              "      gap: 12px;\n",
              "    }\n",
              "\n",
              "    .colab-df-convert {\n",
              "      background-color: #E8F0FE;\n",
              "      border: none;\n",
              "      border-radius: 50%;\n",
              "      cursor: pointer;\n",
              "      display: none;\n",
              "      fill: #1967D2;\n",
              "      height: 32px;\n",
              "      padding: 0 0 0 0;\n",
              "      width: 32px;\n",
              "    }\n",
              "\n",
              "    .colab-df-convert:hover {\n",
              "      background-color: #E2EBFA;\n",
              "      box-shadow: 0px 1px 2px rgba(60, 64, 67, 0.3), 0px 1px 3px 1px rgba(60, 64, 67, 0.15);\n",
              "      fill: #174EA6;\n",
              "    }\n",
              "\n",
              "    [theme=dark] .colab-df-convert {\n",
              "      background-color: #3B4455;\n",
              "      fill: #D2E3FC;\n",
              "    }\n",
              "\n",
              "    [theme=dark] .colab-df-convert:hover {\n",
              "      background-color: #434B5C;\n",
              "      box-shadow: 0px 1px 3px 1px rgba(0, 0, 0, 0.15);\n",
              "      filter: drop-shadow(0px 1px 2px rgba(0, 0, 0, 0.3));\n",
              "      fill: #FFFFFF;\n",
              "    }\n",
              "  </style>\n",
              "\n",
              "      <script>\n",
              "        const buttonEl =\n",
              "          document.querySelector('#df-3ae57cac-ca49-4213-afd0-e3b088ff7ce2 button.colab-df-convert');\n",
              "        buttonEl.style.display =\n",
              "          google.colab.kernel.accessAllowed ? 'block' : 'none';\n",
              "\n",
              "        async function convertToInteractive(key) {\n",
              "          const element = document.querySelector('#df-3ae57cac-ca49-4213-afd0-e3b088ff7ce2');\n",
              "          const dataTable =\n",
              "            await google.colab.kernel.invokeFunction('convertToInteractive',\n",
              "                                                     [key], {});\n",
              "          if (!dataTable) return;\n",
              "\n",
              "          const docLinkHtml = 'Like what you see? Visit the ' +\n",
              "            '<a target=\"_blank\" href=https://colab.research.google.com/notebooks/data_table.ipynb>data table notebook</a>'\n",
              "            + ' to learn more about interactive tables.';\n",
              "          element.innerHTML = '';\n",
              "          dataTable['output_type'] = 'display_data';\n",
              "          await google.colab.output.renderOutput(dataTable, element);\n",
              "          const docLink = document.createElement('div');\n",
              "          docLink.innerHTML = docLinkHtml;\n",
              "          element.appendChild(docLink);\n",
              "        }\n",
              "      </script>\n",
              "    </div>\n",
              "  </div>\n",
              "  "
            ],
            "text/plain": [
              "                            user_id   book_id  \\\n",
              "0  8842281e1d1347389f2ab93d60773d4d  18245960   \n",
              "1  8842281e1d1347389f2ab93d60773d4d     16981   \n",
              "2  8842281e1d1347389f2ab93d60773d4d  28684704   \n",
              "3  8842281e1d1347389f2ab93d60773d4d  27161156   \n",
              "4  8842281e1d1347389f2ab93d60773d4d  25884323   \n",
              "\n",
              "                          review_id  rating  \\\n",
              "0  dfdbb7b0eb5a7e4c26d59a937e2e5feb       5   \n",
              "1  a5d2c3628987712d0e05c4f90798eb67       3   \n",
              "2  2ede853b14dc4583f96cf5d120af636f       3   \n",
              "3  ced5675e55cd9d38a524743f5c40996e       0   \n",
              "4  332732725863131279a8e345b63ac33e       4   \n",
              "\n",
              "                                         review_text  \\\n",
              "0  This is a special book. It started slow for ab...   \n",
              "1  Recommended by Don Katz. Avail for free in Dec...   \n",
              "2  A fun, fast paced science fiction thriller. I ...   \n",
              "3  Recommended reading to understand what is goin...   \n",
              "4  I really enjoyed this book, and there is a lot...   \n",
              "\n",
              "                       date_added                    date_updated  \\\n",
              "0  Sun Jul 30 07:44:10 -0700 2017  Wed Aug 30 00:00:26 -0700 2017   \n",
              "1  Mon Dec 05 10:46:44 -0800 2016  Wed Mar 22 11:37:04 -0700 2017   \n",
              "2  Tue Nov 15 11:29:22 -0800 2016  Mon Mar 20 23:40:27 -0700 2017   \n",
              "3  Wed Nov 09 17:37:04 -0800 2016  Wed Nov 09 17:38:20 -0800 2016   \n",
              "4  Mon Apr 25 09:31:23 -0700 2016  Mon Apr 25 09:31:23 -0700 2016   \n",
              "\n",
              "                          read_at                      started_at  n_votes  \\\n",
              "0  Sat Aug 26 12:05:52 -0700 2017  Tue Aug 15 13:23:18 -0700 2017       28   \n",
              "1                             NaN                             NaN        1   \n",
              "2  Sat Mar 18 23:22:42 -0700 2017  Fri Mar 17 23:45:40 -0700 2017       22   \n",
              "3                             NaN                             NaN        5   \n",
              "4  Sun Jun 26 00:00:00 -0700 2016  Sat May 28 00:00:00 -0700 2016        9   \n",
              "\n",
              "   n_comments  \n",
              "0           1  \n",
              "1           0  \n",
              "2           0  \n",
              "3           1  \n",
              "4           1  "
            ]
          },
          "execution_count": 5,
          "metadata": {},
          "output_type": "execute_result"
        }
      ],
      "source": [
        "df = pd.read_csv('/content/drive/MyDrive/ESGI/DL - Book/data/goodreads_train.csv')\n",
        "df.head()"
      ]
    },
    {
      "cell_type": "markdown",
      "metadata": {
        "id": "n86qAQtaCBKz"
      },
      "source": [
        "# Dataset pre-processing (Tokenizer and GloVE (global vectorization file))"
      ]
    },
    {
      "cell_type": "code",
      "execution_count": null,
      "metadata": {
        "id": "qT_looqWOjm4"
      },
      "outputs": [],
      "source": [
        "ratings = df['rating']\n",
        "reviews = df['review_text']\n",
        "\n",
        "X_train, X_test, y_train, y_test  = train_test_split(reviews, ratings, stratify = ratings ,test_size = 0.2, shuffle = True , random_state = 25)"
      ]
    },
    {
      "cell_type": "code",
      "execution_count": null,
      "metadata": {
        "id": "jdq9tqFbOjm5"
      },
      "outputs": [],
      "source": [
        "from sklearn.feature_extraction.text import CountVectorizer\n",
        "from tensorflow.keras.preprocessing.sequence import pad_sequences\n",
        "from keras.preprocessing.text import Tokenizer\n",
        "\n",
        "max_features = 40000\n",
        "maxlen = 300\n",
        "\n",
        "tokenizer = Tokenizer(num_words=max_features, oov_token='<OOV>')\n",
        "tokenizer.fit_on_texts(X_train)\n",
        "\n",
        "cv_train = tokenizer.texts_to_sequences(X_train)\n",
        "#pads sequences so they all have the same length\n",
        "padded_in = pad_sequences(cv_train, maxlen=300, value=0.0)"
      ]
    },
    {
      "cell_type": "code",
      "execution_count": null,
      "metadata": {
        "colab": {
          "base_uri": "https://localhost:8080/"
        },
        "id": "1PEvHB3tOjm7",
        "outputId": "e8f25547-37c4-4b39-dee2-972f3852985e"
      },
      "outputs": [
        {
          "name": "stdout",
          "output_type": "stream",
          "text": [
            "[40, 29, 6, 193, 137, 13, 12, 6, 227, 14, 18, 65, 162, 3250, 15, 12, 34, 11, 34, 38092, 326, 9, 75, 37, 94, 231, 1513, 784, 55, 132, 24, 121, 521, 1866, 5, 2, 53, 11, 6, 294, 402, 7, 3360, 3, 76, 26, 2, 67, 5, 593, 173, 86, 72, 168, 136, 70, 20, 63, 713, 2, 211, 76, 26, 372, 16, 13, 73, 5728, 670, 4482, 3138, 24687, 2835, 4086, 3, 1, 6592, 4962, 4376, 326, 133, 758, 7, 749, 5, 378, 1221, 53, 309, 6, 129, 4739, 3, 1]\n",
            "(720000, 300)\n"
          ]
        }
      ],
      "source": [
        "print(cv_train[0])\n",
        "print(padded_in.shape)\n"
      ]
    },
    {
      "cell_type": "code",
      "execution_count": null,
      "metadata": {
        "id": "HuvBk-y1Ojm8"
      },
      "outputs": [],
      "source": [
        "EMBEDDING_FILE = \"/content/drive/MyDrive/ESGI/DL - Book/input/glove.6B.200d.txt\"\n",
        "def get_coefs(word,*arr): return word, np.asarray(arr, dtype='float32')\n",
        "\n",
        "embeddings_index = dict(get_coefs(*o.strip().split()) for o in open(EMBEDDING_FILE, encoding=\"utf8\"))"
      ]
    },
    {
      "cell_type": "code",
      "execution_count": null,
      "metadata": {
        "colab": {
          "base_uri": "https://localhost:8080/"
        },
        "id": "pszhdxzdOjm9",
        "outputId": "0a1570b2-2035-42b4-cff8-0778c08b18b2"
      },
      "outputs": [
        {
          "name": "stderr",
          "output_type": "stream",
          "text": [
            "/usr/local/lib/python3.8/dist-packages/IPython/core/interactiveshell.py:3249: FutureWarning: arrays to stack must be passed as a \"sequence\" type such as list or tuple. Support for non-sequence iterables such as generators is deprecated as of NumPy 1.16 and will raise an error in the future.\n",
            "  if (await self.run_code(code, result,  async_=asy)):\n"
          ]
        },
        {
          "data": {
            "text/plain": [
              "(-0.008671864, 0.38186216)"
            ]
          },
          "execution_count": 10,
          "metadata": {},
          "output_type": "execute_result"
        }
      ],
      "source": [
        "all_embs = np.stack(embeddings_index.values())\n",
        "emb_mean,emb_std = all_embs.mean(), all_embs.std()\n",
        "emb_mean,emb_std"
      ]
    },
    {
      "cell_type": "code",
      "execution_count": null,
      "metadata": {
        "id": "wj8JedKIOjm9"
      },
      "outputs": [],
      "source": [
        "word_index = tokenizer.word_index\n",
        "embed_size = 200\n",
        "nb_words = min(max_features, len(word_index))\n",
        "embedding_matrix = np.random.normal(emb_mean, emb_std, (nb_words, embed_size))\n",
        "for word, i in word_index.items():\n",
        "    if i >= max_features: continue\n",
        "    embedding_vector = embeddings_index.get(word)\n",
        "    if embedding_vector is not None: embedding_matrix[i] = embedding_vector"
      ]
    },
    {
      "cell_type": "markdown",
      "metadata": {
        "id": "mN7hEsmHBH0H"
      },
      "source": [
        "# Create the CNN Model :"
      ]
    },
    {
      "cell_type": "code",
      "execution_count": null,
      "metadata": {
        "id": "otCR4ryOOjm-"
      },
      "outputs": [],
      "source": [
        "from keras.layers import Dense, Embedding, LSTM, SpatialDropout1D, Bidirectional, Dropout\n",
        "\n",
        "model = keras.Sequential(\n",
        "    [\n",
        "        layers.Input(shape=(maxlen,)),\n",
        "        layers.Embedding(max_features, embed_size, weights=[embedding_matrix]),\n",
        "        layers.Conv1D(filters=300, kernel_size=1, padding='same', activation='relu'),\n",
        "        layers.Conv1D(filters=300, kernel_size=1, padding='same', activation='relu'),\n",
        "        layers.Conv1D(filters=30, kernel_size=4, padding='same', activation='relu'),\n",
        "        layers.Conv1D(filters=30, kernel_size=4, padding='same', activation='relu'),\n",
        "        layers.Conv1D(filters=30, kernel_size=1, padding='same', activation='relu'),\n",
        "        layers.Conv1D(filters=30, kernel_size=1, padding='same', activation='relu'),\n",
        "        layers.MaxPooling1D(pool_size=2),\n",
        "        layers.Bidirectional(LSTM(32, return_sequences=True)),\n",
        "        layers.Dropout(0.1),\n",
        "        \n",
        "        layers.Conv1D(filters=600, kernel_size=1, padding='same', activation='relu'),\n",
        "        layers.Conv1D(filters=600, kernel_size=1, padding='same', activation='relu'),\n",
        "        layers.Conv1D(filters=60, kernel_size=4, padding='same', activation='relu'),\n",
        "        layers.Conv1D(filters=60, kernel_size=4, padding='same', activation='relu'),\n",
        "        layers.Conv1D(filters=60, kernel_size=1, padding='same', activation='relu'),\n",
        "        layers.Conv1D(filters=60, kernel_size=1, padding='same', activation='relu'),\n",
        "        layers.MaxPooling1D(pool_size=2),\n",
        "        layers.Bidirectional(LSTM(32, return_sequences=True)),\n",
        "        layers.Dropout(0.1),\n",
        "        \n",
        "        layers.Flatten(),\n",
        "        layers.Dense(256, activation='relu'),\n",
        "        layers.Dropout(0.50),\n",
        "        layers.Dense(6, activation='sigmoid'),\n",
        "        \n",
        "        \n",
        "        \n",
        "    ]\n",
        ")"
      ]
    },
    {
      "cell_type": "markdown",
      "metadata": {
        "id": "ygC75QT0CjN4"
      },
      "source": [
        "## Testing a lighter model (Unsuccessful)"
      ]
    },
    {
      "cell_type": "code",
      "execution_count": null,
      "metadata": {
        "id": "2uY8538oMNc9"
      },
      "outputs": [],
      "source": [
        "from keras.layers import Dense, Embedding, LSTM, SpatialDropout1D, Bidirectional, Dropout\n",
        "\n",
        "model = keras.Sequential(\n",
        "    [\n",
        "        layers.Input(shape=(maxlen,)),\n",
        "        layers.Embedding(max_features, embed_size, weights=[embedding_matrix]),\n",
        "        layers.Conv1D(filters=300, kernel_size=1, padding='same', activation='relu'),\n",
        "        layers.Conv1D(filters=30, kernel_size=4, padding='same', activation='relu'),\n",
        "        layers.MaxPooling1D(pool_size=2),\n",
        "        layers.Bidirectional(LSTM(32, return_sequences=True)),\n",
        "        layers.Dropout(0.1),\n",
        "        \n",
        "        layers.Conv1D(filters=600, kernel_size=1, padding='same', activation='relu'),\n",
        "        layers.Conv1D(filters=60, kernel_size=4, padding='same', activation='relu'),\n",
        "        layers.MaxPooling1D(pool_size=2),\n",
        "        layers.Bidirectional(LSTM(32, return_sequences=True)),\n",
        "        layers.Dropout(0.1),\n",
        "        \n",
        "        layers.Flatten(),\n",
        "        layers.Dense(256, activation='relu'),\n",
        "        layers.Dropout(0.50),\n",
        "        layers.Dense(6, activation='sigmoid'),\n",
        "        \n",
        "        \n",
        "        \n",
        "    ]\n",
        ")"
      ]
    },
    {
      "cell_type": "code",
      "execution_count": null,
      "metadata": {
        "colab": {
          "base_uri": "https://localhost:8080/"
        },
        "id": "1wvc8IW5OjnA",
        "outputId": "976982af-6958-4a35-e02f-6d72e45120bb"
      },
      "outputs": [
        {
          "name": "stdout",
          "output_type": "stream",
          "text": [
            "Model: \"sequential\"\n",
            "_________________________________________________________________\n",
            " Layer (type)                Output Shape              Param #   \n",
            "=================================================================\n",
            " embedding (Embedding)       (None, 300, 200)          8000000   \n",
            "                                                                 \n",
            " conv1d (Conv1D)             (None, 300, 300)          60300     \n",
            "                                                                 \n",
            " conv1d_1 (Conv1D)           (None, 300, 30)           36030     \n",
            "                                                                 \n",
            " max_pooling1d (MaxPooling1D  (None, 150, 30)          0         \n",
            " )                                                               \n",
            "                                                                 \n",
            " bidirectional (Bidirectiona  (None, 150, 64)          16128     \n",
            " l)                                                              \n",
            "                                                                 \n",
            " dropout (Dropout)           (None, 150, 64)           0         \n",
            "                                                                 \n",
            " conv1d_2 (Conv1D)           (None, 150, 600)          39000     \n",
            "                                                                 \n",
            " conv1d_3 (Conv1D)           (None, 150, 60)           144060    \n",
            "                                                                 \n",
            " max_pooling1d_1 (MaxPooling  (None, 75, 60)           0         \n",
            " 1D)                                                             \n",
            "                                                                 \n",
            " bidirectional_1 (Bidirectio  (None, 75, 64)           23808     \n",
            " nal)                                                            \n",
            "                                                                 \n",
            " dropout_1 (Dropout)         (None, 75, 64)            0         \n",
            "                                                                 \n",
            " flatten (Flatten)           (None, 4800)              0         \n",
            "                                                                 \n",
            " dense (Dense)               (None, 256)               1229056   \n",
            "                                                                 \n",
            " dropout_2 (Dropout)         (None, 256)               0         \n",
            "                                                                 \n",
            " dense_1 (Dense)             (None, 6)                 1542      \n",
            "                                                                 \n",
            "=================================================================\n",
            "Total params: 9,549,924\n",
            "Trainable params: 9,549,924\n",
            "Non-trainable params: 0\n",
            "_________________________________________________________________\n"
          ]
        }
      ],
      "source": [
        "#import tensorflow_addons as tfa\n",
        "# Création de la métrique F1\n",
        "#f1_metric = tfa.metrics.F1Score(num_classes=5, average='micro')\n",
        "\n",
        "model.compile(optimizer=keras.optimizers.Adam(1e-4), loss='sparse_categorical_crossentropy', metrics=['acc']) # F1 = F1_score\n",
        "model.summary()"
      ]
    },
    {
      "cell_type": "code",
      "execution_count": null,
      "metadata": {
        "id": "yog68GXOOjnB"
      },
      "outputs": [],
      "source": [
        "\n",
        "callbacks = tf.keras.callbacks.TensorBoard(log_dir=logdir, histogram_freq=1, embeddings_freq=1)"
      ]
    },
    {
      "cell_type": "markdown",
      "metadata": {
        "id": "BAma5cSoQhfq"
      },
      "source": [
        "epochs=8, batch_size=32\n",
        "1. Epoch 4/8 18000/18000 [==============================] - 497s 28ms/step - loss: 0.9456 - acc: 0.5985 - val_loss: 0.9565 - val_acc: 0.5933\n",
        "\n",
        "20000 - 200 - 4 - 64\n",
        "1. loss: 0.9544 - acc: 0.5942 - val_loss: 0.9600 - val_acc: 0.5922  \n",
        "# PLUS D'EPOCH SI BATCH SIZE PLUS PETIT CAR PAS D'OVERFITTING -> MEILLEUR SCORE SI PLUS DE MOTS\n",
        "\n",
        "30000 - 250 - 6 - 64\n",
        "\n",
        "Epoch 1/6 - loss: 1.1477 - acc: 0.5047 - val_loss: 1.0116 - val_acc: 0.5675\n",
        "Epoch 2/6 - loss: 1.0070 - acc: 0.5712 - val_loss: 0.9991 - val_acc: 0.5737\n",
        "Epoch 3/6 - loss: 0.9693 - acc: 0.5879 - val_loss: 0.9633 - val_acc: 0.5908\n",
        "Epoch 4/6 - loss: 0.9429 - acc: 0.5994 - val_loss: 0.9756 - val_acc: 0.5829\n",
        "Epoch 5/6 - loss: 0.9226 - acc: 0.6095 - val_loss: 0.9576 - val_acc: 0.5929\n",
        "Epoch 6/6 - loss: 0.9031 - acc: 0.6190 - val_loss: 0.9678 - val_acc: 0.5878\n",
        "\n",
        "# Overfitting \n",
        "\n",
        "40000 - 300 - 5 - 32\n",
        "\n",
        "Epoch 1/5\n",
        "18000/18000 [==============================] - 419s 23ms/step - loss: 1.1014 - acc: 0.5280 - val_loss: 0.9907 - val_acc: 0.5758\n",
        "Epoch 2/5\n",
        "18000/18000 [==============================] - 412s 23ms/step - loss: 0.9720 - acc: 0.5864 - val_loss: 0.9474 - val_acc: 0.5951\n",
        "Epoch 3/5\n",
        "18000/18000 [==============================] - 412s 23ms/step - loss: 0.9307 - acc: 0.6050 - val_loss: 0.9324 - val_acc: 0.6035\n",
        "Epoch 4/5\n",
        "18000/18000 [==============================] - 410s 23ms/step - loss: 0.9013 - acc: 0.6190 - val_loss: 0.9373 - val_acc: 0.6033\n",
        "Epoch 5/5\n",
        "18000/18000 [==============================] - 410s 23ms/step - loss: 0.8767 - acc: 0.6309 - val_loss: 0.9310 - val_acc: 0.6061\n",
        "\n",
        "# Leger Overfit, mais meilleur score -> Essayer avec batchsize plus grand et une epoch de plus ou réduire encore un peu le modèle\n",
        "\n",
        "# Overfitting plus visible avec batch size de 64, val_acc => 0,6025\n",
        "\n"
      ]
    },
    {
      "cell_type": "markdown",
      "metadata": {
        "id": "MdEtA17dAXCT"
      },
      "source": [
        "# Train the model :"
      ]
    },
    {
      "cell_type": "code",
      "execution_count": null,
      "metadata": {
        "colab": {
          "base_uri": "https://localhost:8080/"
        },
        "id": "2Y73PW3mOjnB",
        "outputId": "20aa6690-770e-4cb8-a2f9-a7e02f30cb3d"
      },
      "outputs": [
        {
          "name": "stdout",
          "output_type": "stream",
          "text": [
            "Epoch 1/5\n",
            "18000/18000 [==============================] - 419s 23ms/step - loss: 1.1014 - acc: 0.5280 - val_loss: 0.9907 - val_acc: 0.5758\n",
            "Epoch 2/5\n",
            "18000/18000 [==============================] - 412s 23ms/step - loss: 0.9720 - acc: 0.5864 - val_loss: 0.9474 - val_acc: 0.5951\n",
            "Epoch 3/5\n",
            "18000/18000 [==============================] - 412s 23ms/step - loss: 0.9307 - acc: 0.6050 - val_loss: 0.9324 - val_acc: 0.6035\n",
            "Epoch 4/5\n",
            "18000/18000 [==============================] - 410s 23ms/step - loss: 0.9013 - acc: 0.6190 - val_loss: 0.9373 - val_acc: 0.6033\n",
            "Epoch 5/5\n",
            "18000/18000 [==============================] - 410s 23ms/step - loss: 0.8767 - acc: 0.6309 - val_loss: 0.9310 - val_acc: 0.6061\n"
          ]
        }
      ],
      "source": [
        "history = model.fit(padded_in, y_train, epochs=5, batch_size=32, verbose=1, validation_split=0.20)  # 8 epoch for 0,58150 F1"
      ]
    },
    {
      "cell_type": "markdown",
      "metadata": {
        "id": "82vRAODoAdvy"
      },
      "source": [
        "# Try to use the Tensorboard feature (unsuccessful)"
      ]
    },
    {
      "cell_type": "code",
      "execution_count": null,
      "metadata": {
        "id": "wRsc5l7-OjnC",
        "outputId": "89ea9b47-a4ef-465a-ce2c-e20540923bb3"
      },
      "outputs": [
        {
          "data": {
            "text/plain": [
              "ERROR: Timed out waiting for TensorBoard to start. It may still be running as pid 7760."
            ]
          },
          "metadata": {},
          "output_type": "display_data"
        }
      ],
      "source": [
        "%tensorboard dev upload --logdir \\ './lien/vers/logs/'"
      ]
    },
    {
      "cell_type": "code",
      "execution_count": null,
      "metadata": {
        "id": "eLmSyqQQOjnC",
        "outputId": "20a21674-fea5-47dd-ec6e-63f8f060801a"
      },
      "outputs": [
        {
          "data": {
            "text/plain": [
              "Reusing TensorBoard on port 6006 (pid 25688), started 1:08:08 ago. (Use '!kill 25688' to kill it.)"
            ]
          },
          "metadata": {},
          "output_type": "display_data"
        },
        {
          "data": {
            "text/html": [
              "\n",
              "      <iframe id=\"tensorboard-frame-39a0f929f055b00f\" width=\"100%\" height=\"800\" frameborder=\"0\">\n",
              "      </iframe>\n",
              "      <script>\n",
              "        (function() {\n",
              "          const frame = document.getElementById(\"tensorboard-frame-39a0f929f055b00f\");\n",
              "          const url = new URL(\"http://localhost\");\n",
              "          const port = 6006;\n",
              "          if (port) {\n",
              "            url.port = port;\n",
              "          }\n",
              "          frame.src = url;\n",
              "        })();\n",
              "      </script>\n",
              "    "
            ],
            "text/plain": [
              "<IPython.core.display.HTML object>"
            ]
          },
          "metadata": {},
          "output_type": "display_data"
        }
      ],
      "source": [
        "%tensorboard --logdir logs"
      ]
    },
    {
      "cell_type": "markdown",
      "metadata": {
        "id": "l28FfgjiArKp"
      },
      "source": [
        "# Load and Predict the value of the Test Dataset "
      ]
    },
    {
      "cell_type": "code",
      "execution_count": null,
      "metadata": {
        "colab": {
          "base_uri": "https://localhost:8080/",
          "height": 617
        },
        "id": "VsEqs_erOjnD",
        "outputId": "517f4f8b-3287-40d1-cc27-1a643e24782f"
      },
      "outputs": [
        {
          "data": {
            "text/html": [
              "\n",
              "  <div id=\"df-01615a93-8613-4987-9413-8386706d9117\">\n",
              "    <div class=\"colab-df-container\">\n",
              "      <div>\n",
              "<style scoped>\n",
              "    .dataframe tbody tr th:only-of-type {\n",
              "        vertical-align: middle;\n",
              "    }\n",
              "\n",
              "    .dataframe tbody tr th {\n",
              "        vertical-align: top;\n",
              "    }\n",
              "\n",
              "    .dataframe thead th {\n",
              "        text-align: right;\n",
              "    }\n",
              "</style>\n",
              "<table border=\"1\" class=\"dataframe\">\n",
              "  <thead>\n",
              "    <tr style=\"text-align: right;\">\n",
              "      <th></th>\n",
              "      <th>user_id</th>\n",
              "      <th>book_id</th>\n",
              "      <th>review_id</th>\n",
              "      <th>review_text</th>\n",
              "      <th>date_added</th>\n",
              "      <th>date_updated</th>\n",
              "      <th>read_at</th>\n",
              "      <th>started_at</th>\n",
              "      <th>n_votes</th>\n",
              "      <th>n_comments</th>\n",
              "    </tr>\n",
              "  </thead>\n",
              "  <tbody>\n",
              "    <tr>\n",
              "      <th>0</th>\n",
              "      <td>b9450d1c1f97f891c392b1105959b56e</td>\n",
              "      <td>7092507</td>\n",
              "      <td>5c4df7e70e9b438c761f07a4620ccb7c</td>\n",
              "      <td>** spoiler alert ** \\n This is definitely one ...</td>\n",
              "      <td>Sat Nov 10 06:06:13 -0800 2012</td>\n",
              "      <td>Sun Nov 11 05:38:36 -0800 2012</td>\n",
              "      <td>Sun Nov 11 05:38:36 -0800 2012</td>\n",
              "      <td>Sat Nov 10 00:00:00 -0800 2012</td>\n",
              "      <td>1</td>\n",
              "      <td>0</td>\n",
              "    </tr>\n",
              "    <tr>\n",
              "      <th>1</th>\n",
              "      <td>b9450d1c1f97f891c392b1105959b56e</td>\n",
              "      <td>5576654</td>\n",
              "      <td>8eaeaf13213eeb16ad879a2a2591bbe5</td>\n",
              "      <td>** spoiler alert ** \\n \"You are what you drink...</td>\n",
              "      <td>Fri Nov 09 21:55:16 -0800 2012</td>\n",
              "      <td>Sat Nov 10 05:41:49 -0800 2012</td>\n",
              "      <td>Sat Nov 10 05:41:49 -0800 2012</td>\n",
              "      <td>Fri Nov 09 00:00:00 -0800 2012</td>\n",
              "      <td>1</td>\n",
              "      <td>0</td>\n",
              "    </tr>\n",
              "    <tr>\n",
              "      <th>2</th>\n",
              "      <td>b9450d1c1f97f891c392b1105959b56e</td>\n",
              "      <td>15754052</td>\n",
              "      <td>dce649b733c153ba5363a0413cac988f</td>\n",
              "      <td>Roar is one of my favorite characters in Under...</td>\n",
              "      <td>Fri Nov 09 00:25:50 -0800 2012</td>\n",
              "      <td>Sat Nov 10 06:14:10 -0800 2012</td>\n",
              "      <td>Sat Nov 10 06:14:10 -0800 2012</td>\n",
              "      <td>Fri Nov 09 00:00:00 -0800 2012</td>\n",
              "      <td>0</td>\n",
              "      <td>0</td>\n",
              "    </tr>\n",
              "    <tr>\n",
              "      <th>3</th>\n",
              "      <td>b9450d1c1f97f891c392b1105959b56e</td>\n",
              "      <td>17020</td>\n",
              "      <td>8a46df0bb997269d6834f9437a4b0a77</td>\n",
              "      <td>** spoiler alert ** \\n If you feel like travel...</td>\n",
              "      <td>Thu Nov 01 00:28:39 -0700 2012</td>\n",
              "      <td>Sat Nov 03 11:35:22 -0700 2012</td>\n",
              "      <td>Sat Nov 03 11:35:22 -0700 2012</td>\n",
              "      <td>Thu Nov 01 00:00:00 -0700 2012</td>\n",
              "      <td>0</td>\n",
              "      <td>0</td>\n",
              "    </tr>\n",
              "    <tr>\n",
              "      <th>4</th>\n",
              "      <td>b9450d1c1f97f891c392b1105959b56e</td>\n",
              "      <td>12551082</td>\n",
              "      <td>d11d3091e22f1cf3cb865598de197599</td>\n",
              "      <td>3.5 stars \\n I read and enjoyed the first two ...</td>\n",
              "      <td>Thu Oct 18 00:57:00 -0700 2012</td>\n",
              "      <td>Mon Apr 01 23:00:51 -0700 2013</td>\n",
              "      <td>Sat Mar 30 00:00:00 -0700 2013</td>\n",
              "      <td>Fri Mar 29 00:00:00 -0700 2013</td>\n",
              "      <td>0</td>\n",
              "      <td>0</td>\n",
              "    </tr>\n",
              "  </tbody>\n",
              "</table>\n",
              "</div>\n",
              "      <button class=\"colab-df-convert\" onclick=\"convertToInteractive('df-01615a93-8613-4987-9413-8386706d9117')\"\n",
              "              title=\"Convert this dataframe to an interactive table.\"\n",
              "              style=\"display:none;\">\n",
              "        \n",
              "  <svg xmlns=\"http://www.w3.org/2000/svg\" height=\"24px\"viewBox=\"0 0 24 24\"\n",
              "       width=\"24px\">\n",
              "    <path d=\"M0 0h24v24H0V0z\" fill=\"none\"/>\n",
              "    <path d=\"M18.56 5.44l.94 2.06.94-2.06 2.06-.94-2.06-.94-.94-2.06-.94 2.06-2.06.94zm-11 1L8.5 8.5l.94-2.06 2.06-.94-2.06-.94L8.5 2.5l-.94 2.06-2.06.94zm10 10l.94 2.06.94-2.06 2.06-.94-2.06-.94-.94-2.06-.94 2.06-2.06.94z\"/><path d=\"M17.41 7.96l-1.37-1.37c-.4-.4-.92-.59-1.43-.59-.52 0-1.04.2-1.43.59L10.3 9.45l-7.72 7.72c-.78.78-.78 2.05 0 2.83L4 21.41c.39.39.9.59 1.41.59.51 0 1.02-.2 1.41-.59l7.78-7.78 2.81-2.81c.8-.78.8-2.07 0-2.86zM5.41 20L4 18.59l7.72-7.72 1.47 1.35L5.41 20z\"/>\n",
              "  </svg>\n",
              "      </button>\n",
              "      \n",
              "  <style>\n",
              "    .colab-df-container {\n",
              "      display:flex;\n",
              "      flex-wrap:wrap;\n",
              "      gap: 12px;\n",
              "    }\n",
              "\n",
              "    .colab-df-convert {\n",
              "      background-color: #E8F0FE;\n",
              "      border: none;\n",
              "      border-radius: 50%;\n",
              "      cursor: pointer;\n",
              "      display: none;\n",
              "      fill: #1967D2;\n",
              "      height: 32px;\n",
              "      padding: 0 0 0 0;\n",
              "      width: 32px;\n",
              "    }\n",
              "\n",
              "    .colab-df-convert:hover {\n",
              "      background-color: #E2EBFA;\n",
              "      box-shadow: 0px 1px 2px rgba(60, 64, 67, 0.3), 0px 1px 3px 1px rgba(60, 64, 67, 0.15);\n",
              "      fill: #174EA6;\n",
              "    }\n",
              "\n",
              "    [theme=dark] .colab-df-convert {\n",
              "      background-color: #3B4455;\n",
              "      fill: #D2E3FC;\n",
              "    }\n",
              "\n",
              "    [theme=dark] .colab-df-convert:hover {\n",
              "      background-color: #434B5C;\n",
              "      box-shadow: 0px 1px 3px 1px rgba(0, 0, 0, 0.15);\n",
              "      filter: drop-shadow(0px 1px 2px rgba(0, 0, 0, 0.3));\n",
              "      fill: #FFFFFF;\n",
              "    }\n",
              "  </style>\n",
              "\n",
              "      <script>\n",
              "        const buttonEl =\n",
              "          document.querySelector('#df-01615a93-8613-4987-9413-8386706d9117 button.colab-df-convert');\n",
              "        buttonEl.style.display =\n",
              "          google.colab.kernel.accessAllowed ? 'block' : 'none';\n",
              "\n",
              "        async function convertToInteractive(key) {\n",
              "          const element = document.querySelector('#df-01615a93-8613-4987-9413-8386706d9117');\n",
              "          const dataTable =\n",
              "            await google.colab.kernel.invokeFunction('convertToInteractive',\n",
              "                                                     [key], {});\n",
              "          if (!dataTable) return;\n",
              "\n",
              "          const docLinkHtml = 'Like what you see? Visit the ' +\n",
              "            '<a target=\"_blank\" href=https://colab.research.google.com/notebooks/data_table.ipynb>data table notebook</a>'\n",
              "            + ' to learn more about interactive tables.';\n",
              "          element.innerHTML = '';\n",
              "          dataTable['output_type'] = 'display_data';\n",
              "          await google.colab.output.renderOutput(dataTable, element);\n",
              "          const docLink = document.createElement('div');\n",
              "          docLink.innerHTML = docLinkHtml;\n",
              "          element.appendChild(docLink);\n",
              "        }\n",
              "      </script>\n",
              "    </div>\n",
              "  </div>\n",
              "  "
            ],
            "text/plain": [
              "                            user_id   book_id  \\\n",
              "0  b9450d1c1f97f891c392b1105959b56e   7092507   \n",
              "1  b9450d1c1f97f891c392b1105959b56e   5576654   \n",
              "2  b9450d1c1f97f891c392b1105959b56e  15754052   \n",
              "3  b9450d1c1f97f891c392b1105959b56e     17020   \n",
              "4  b9450d1c1f97f891c392b1105959b56e  12551082   \n",
              "\n",
              "                          review_id  \\\n",
              "0  5c4df7e70e9b438c761f07a4620ccb7c   \n",
              "1  8eaeaf13213eeb16ad879a2a2591bbe5   \n",
              "2  dce649b733c153ba5363a0413cac988f   \n",
              "3  8a46df0bb997269d6834f9437a4b0a77   \n",
              "4  d11d3091e22f1cf3cb865598de197599   \n",
              "\n",
              "                                         review_text  \\\n",
              "0  ** spoiler alert ** \\n This is definitely one ...   \n",
              "1  ** spoiler alert ** \\n \"You are what you drink...   \n",
              "2  Roar is one of my favorite characters in Under...   \n",
              "3  ** spoiler alert ** \\n If you feel like travel...   \n",
              "4  3.5 stars \\n I read and enjoyed the first two ...   \n",
              "\n",
              "                       date_added                    date_updated  \\\n",
              "0  Sat Nov 10 06:06:13 -0800 2012  Sun Nov 11 05:38:36 -0800 2012   \n",
              "1  Fri Nov 09 21:55:16 -0800 2012  Sat Nov 10 05:41:49 -0800 2012   \n",
              "2  Fri Nov 09 00:25:50 -0800 2012  Sat Nov 10 06:14:10 -0800 2012   \n",
              "3  Thu Nov 01 00:28:39 -0700 2012  Sat Nov 03 11:35:22 -0700 2012   \n",
              "4  Thu Oct 18 00:57:00 -0700 2012  Mon Apr 01 23:00:51 -0700 2013   \n",
              "\n",
              "                          read_at                      started_at  n_votes  \\\n",
              "0  Sun Nov 11 05:38:36 -0800 2012  Sat Nov 10 00:00:00 -0800 2012        1   \n",
              "1  Sat Nov 10 05:41:49 -0800 2012  Fri Nov 09 00:00:00 -0800 2012        1   \n",
              "2  Sat Nov 10 06:14:10 -0800 2012  Fri Nov 09 00:00:00 -0800 2012        0   \n",
              "3  Sat Nov 03 11:35:22 -0700 2012  Thu Nov 01 00:00:00 -0700 2012        0   \n",
              "4  Sat Mar 30 00:00:00 -0700 2013  Fri Mar 29 00:00:00 -0700 2013        0   \n",
              "\n",
              "   n_comments  \n",
              "0           0  \n",
              "1           0  \n",
              "2           0  \n",
              "3           0  \n",
              "4           0  "
            ]
          },
          "execution_count": 15,
          "metadata": {},
          "output_type": "execute_result"
        }
      ],
      "source": [
        "df_test = pd.read_csv('/content/drive/MyDrive/ESGI/DL - Book/data/goodreads_test.csv')\n",
        "df_test.head()"
      ]
    },
    {
      "cell_type": "code",
      "execution_count": null,
      "metadata": {
        "id": "ogDbZXllOjnD"
      },
      "outputs": [],
      "source": [
        "df_test = df_test[['review_id', 'review_text']]\n",
        "testing_sequences = tokenizer.texts_to_sequences(df_test['review_text'])\n",
        "testing_sequences = pad_sequences(testing_sequences, maxlen=300)"
      ]
    },
    {
      "cell_type": "code",
      "execution_count": null,
      "metadata": {
        "colab": {
          "base_uri": "https://localhost:8080/"
        },
        "id": "4tJ8BE1UOjnD",
        "outputId": "1f0b2759-922d-48aa-b3a5-98b1d5d33a82"
      },
      "outputs": [
        {
          "name": "stdout",
          "output_type": "stream",
          "text": [
            "14939/14939 [==============================] - 137s 9ms/step\n"
          ]
        }
      ],
      "source": [
        "from sklearn.metrics import multilabel_confusion_matrix\n",
        "\n",
        "ypred=model.predict(testing_sequences)"
      ]
    },
    {
      "cell_type": "markdown",
      "metadata": {
        "id": "hP3Ydzb1A_4H"
      },
      "source": [
        "# Create the CSV Submission file :"
      ]
    },
    {
      "cell_type": "code",
      "execution_count": null,
      "metadata": {
        "colab": {
          "base_uri": "https://localhost:8080/",
          "height": 206
        },
        "id": "spt_FYoXOjnE",
        "outputId": "fb10fe03-3b04-4dbe-e683-620c627c802a"
      },
      "outputs": [
        {
          "data": {
            "text/html": [
              "\n",
              "  <div id=\"df-f85f844d-d2e6-4190-ac28-97d70ad8cf6f\">\n",
              "    <div class=\"colab-df-container\">\n",
              "      <div>\n",
              "<style scoped>\n",
              "    .dataframe tbody tr th:only-of-type {\n",
              "        vertical-align: middle;\n",
              "    }\n",
              "\n",
              "    .dataframe tbody tr th {\n",
              "        vertical-align: top;\n",
              "    }\n",
              "\n",
              "    .dataframe thead th {\n",
              "        text-align: right;\n",
              "    }\n",
              "</style>\n",
              "<table border=\"1\" class=\"dataframe\">\n",
              "  <thead>\n",
              "    <tr style=\"text-align: right;\">\n",
              "      <th></th>\n",
              "      <th>review_id</th>\n",
              "    </tr>\n",
              "  </thead>\n",
              "  <tbody>\n",
              "    <tr>\n",
              "      <th>0</th>\n",
              "      <td>5c4df7e70e9b438c761f07a4620ccb7c</td>\n",
              "    </tr>\n",
              "    <tr>\n",
              "      <th>1</th>\n",
              "      <td>8eaeaf13213eeb16ad879a2a2591bbe5</td>\n",
              "    </tr>\n",
              "    <tr>\n",
              "      <th>2</th>\n",
              "      <td>dce649b733c153ba5363a0413cac988f</td>\n",
              "    </tr>\n",
              "    <tr>\n",
              "      <th>3</th>\n",
              "      <td>8a46df0bb997269d6834f9437a4b0a77</td>\n",
              "    </tr>\n",
              "    <tr>\n",
              "      <th>4</th>\n",
              "      <td>d11d3091e22f1cf3cb865598de197599</td>\n",
              "    </tr>\n",
              "  </tbody>\n",
              "</table>\n",
              "</div>\n",
              "      <button class=\"colab-df-convert\" onclick=\"convertToInteractive('df-f85f844d-d2e6-4190-ac28-97d70ad8cf6f')\"\n",
              "              title=\"Convert this dataframe to an interactive table.\"\n",
              "              style=\"display:none;\">\n",
              "        \n",
              "  <svg xmlns=\"http://www.w3.org/2000/svg\" height=\"24px\"viewBox=\"0 0 24 24\"\n",
              "       width=\"24px\">\n",
              "    <path d=\"M0 0h24v24H0V0z\" fill=\"none\"/>\n",
              "    <path d=\"M18.56 5.44l.94 2.06.94-2.06 2.06-.94-2.06-.94-.94-2.06-.94 2.06-2.06.94zm-11 1L8.5 8.5l.94-2.06 2.06-.94-2.06-.94L8.5 2.5l-.94 2.06-2.06.94zm10 10l.94 2.06.94-2.06 2.06-.94-2.06-.94-.94-2.06-.94 2.06-2.06.94z\"/><path d=\"M17.41 7.96l-1.37-1.37c-.4-.4-.92-.59-1.43-.59-.52 0-1.04.2-1.43.59L10.3 9.45l-7.72 7.72c-.78.78-.78 2.05 0 2.83L4 21.41c.39.39.9.59 1.41.59.51 0 1.02-.2 1.41-.59l7.78-7.78 2.81-2.81c.8-.78.8-2.07 0-2.86zM5.41 20L4 18.59l7.72-7.72 1.47 1.35L5.41 20z\"/>\n",
              "  </svg>\n",
              "      </button>\n",
              "      \n",
              "  <style>\n",
              "    .colab-df-container {\n",
              "      display:flex;\n",
              "      flex-wrap:wrap;\n",
              "      gap: 12px;\n",
              "    }\n",
              "\n",
              "    .colab-df-convert {\n",
              "      background-color: #E8F0FE;\n",
              "      border: none;\n",
              "      border-radius: 50%;\n",
              "      cursor: pointer;\n",
              "      display: none;\n",
              "      fill: #1967D2;\n",
              "      height: 32px;\n",
              "      padding: 0 0 0 0;\n",
              "      width: 32px;\n",
              "    }\n",
              "\n",
              "    .colab-df-convert:hover {\n",
              "      background-color: #E2EBFA;\n",
              "      box-shadow: 0px 1px 2px rgba(60, 64, 67, 0.3), 0px 1px 3px 1px rgba(60, 64, 67, 0.15);\n",
              "      fill: #174EA6;\n",
              "    }\n",
              "\n",
              "    [theme=dark] .colab-df-convert {\n",
              "      background-color: #3B4455;\n",
              "      fill: #D2E3FC;\n",
              "    }\n",
              "\n",
              "    [theme=dark] .colab-df-convert:hover {\n",
              "      background-color: #434B5C;\n",
              "      box-shadow: 0px 1px 3px 1px rgba(0, 0, 0, 0.15);\n",
              "      filter: drop-shadow(0px 1px 2px rgba(0, 0, 0, 0.3));\n",
              "      fill: #FFFFFF;\n",
              "    }\n",
              "  </style>\n",
              "\n",
              "      <script>\n",
              "        const buttonEl =\n",
              "          document.querySelector('#df-f85f844d-d2e6-4190-ac28-97d70ad8cf6f button.colab-df-convert');\n",
              "        buttonEl.style.display =\n",
              "          google.colab.kernel.accessAllowed ? 'block' : 'none';\n",
              "\n",
              "        async function convertToInteractive(key) {\n",
              "          const element = document.querySelector('#df-f85f844d-d2e6-4190-ac28-97d70ad8cf6f');\n",
              "          const dataTable =\n",
              "            await google.colab.kernel.invokeFunction('convertToInteractive',\n",
              "                                                     [key], {});\n",
              "          if (!dataTable) return;\n",
              "\n",
              "          const docLinkHtml = 'Like what you see? Visit the ' +\n",
              "            '<a target=\"_blank\" href=https://colab.research.google.com/notebooks/data_table.ipynb>data table notebook</a>'\n",
              "            + ' to learn more about interactive tables.';\n",
              "          element.innerHTML = '';\n",
              "          dataTable['output_type'] = 'display_data';\n",
              "          await google.colab.output.renderOutput(dataTable, element);\n",
              "          const docLink = document.createElement('div');\n",
              "          docLink.innerHTML = docLinkHtml;\n",
              "          element.appendChild(docLink);\n",
              "        }\n",
              "      </script>\n",
              "    </div>\n",
              "  </div>\n",
              "  "
            ],
            "text/plain": [
              "                          review_id\n",
              "0  5c4df7e70e9b438c761f07a4620ccb7c\n",
              "1  8eaeaf13213eeb16ad879a2a2591bbe5\n",
              "2  dce649b733c153ba5363a0413cac988f\n",
              "3  8a46df0bb997269d6834f9437a4b0a77\n",
              "4  d11d3091e22f1cf3cb865598de197599"
            ]
          },
          "execution_count": 18,
          "metadata": {},
          "output_type": "execute_result"
        }
      ],
      "source": [
        "df_test = df_test.drop(['review_text'], axis=1)\n",
        "df_test.head()"
      ]
    },
    {
      "cell_type": "code",
      "execution_count": null,
      "metadata": {
        "colab": {
          "base_uri": "https://localhost:8080/",
          "height": 206
        },
        "id": "rglKVGKJOjnE",
        "outputId": "d58a0171-e7dd-4369-a95b-a51ab5c374c6"
      },
      "outputs": [
        {
          "data": {
            "text/html": [
              "\n",
              "  <div id=\"df-a06718c1-31c0-478e-9173-c4765fe95756\">\n",
              "    <div class=\"colab-df-container\">\n",
              "      <div>\n",
              "<style scoped>\n",
              "    .dataframe tbody tr th:only-of-type {\n",
              "        vertical-align: middle;\n",
              "    }\n",
              "\n",
              "    .dataframe tbody tr th {\n",
              "        vertical-align: top;\n",
              "    }\n",
              "\n",
              "    .dataframe thead th {\n",
              "        text-align: right;\n",
              "    }\n",
              "</style>\n",
              "<table border=\"1\" class=\"dataframe\">\n",
              "  <thead>\n",
              "    <tr style=\"text-align: right;\">\n",
              "      <th></th>\n",
              "      <th>review_id</th>\n",
              "      <th>rating</th>\n",
              "    </tr>\n",
              "  </thead>\n",
              "  <tbody>\n",
              "    <tr>\n",
              "      <th>0</th>\n",
              "      <td>5c4df7e70e9b438c761f07a4620ccb7c</td>\n",
              "      <td>4</td>\n",
              "    </tr>\n",
              "    <tr>\n",
              "      <th>1</th>\n",
              "      <td>8eaeaf13213eeb16ad879a2a2591bbe5</td>\n",
              "      <td>3</td>\n",
              "    </tr>\n",
              "    <tr>\n",
              "      <th>2</th>\n",
              "      <td>dce649b733c153ba5363a0413cac988f</td>\n",
              "      <td>4</td>\n",
              "    </tr>\n",
              "    <tr>\n",
              "      <th>3</th>\n",
              "      <td>8a46df0bb997269d6834f9437a4b0a77</td>\n",
              "      <td>4</td>\n",
              "    </tr>\n",
              "    <tr>\n",
              "      <th>4</th>\n",
              "      <td>d11d3091e22f1cf3cb865598de197599</td>\n",
              "      <td>4</td>\n",
              "    </tr>\n",
              "  </tbody>\n",
              "</table>\n",
              "</div>\n",
              "      <button class=\"colab-df-convert\" onclick=\"convertToInteractive('df-a06718c1-31c0-478e-9173-c4765fe95756')\"\n",
              "              title=\"Convert this dataframe to an interactive table.\"\n",
              "              style=\"display:none;\">\n",
              "        \n",
              "  <svg xmlns=\"http://www.w3.org/2000/svg\" height=\"24px\"viewBox=\"0 0 24 24\"\n",
              "       width=\"24px\">\n",
              "    <path d=\"M0 0h24v24H0V0z\" fill=\"none\"/>\n",
              "    <path d=\"M18.56 5.44l.94 2.06.94-2.06 2.06-.94-2.06-.94-.94-2.06-.94 2.06-2.06.94zm-11 1L8.5 8.5l.94-2.06 2.06-.94-2.06-.94L8.5 2.5l-.94 2.06-2.06.94zm10 10l.94 2.06.94-2.06 2.06-.94-2.06-.94-.94-2.06-.94 2.06-2.06.94z\"/><path d=\"M17.41 7.96l-1.37-1.37c-.4-.4-.92-.59-1.43-.59-.52 0-1.04.2-1.43.59L10.3 9.45l-7.72 7.72c-.78.78-.78 2.05 0 2.83L4 21.41c.39.39.9.59 1.41.59.51 0 1.02-.2 1.41-.59l7.78-7.78 2.81-2.81c.8-.78.8-2.07 0-2.86zM5.41 20L4 18.59l7.72-7.72 1.47 1.35L5.41 20z\"/>\n",
              "  </svg>\n",
              "      </button>\n",
              "      \n",
              "  <style>\n",
              "    .colab-df-container {\n",
              "      display:flex;\n",
              "      flex-wrap:wrap;\n",
              "      gap: 12px;\n",
              "    }\n",
              "\n",
              "    .colab-df-convert {\n",
              "      background-color: #E8F0FE;\n",
              "      border: none;\n",
              "      border-radius: 50%;\n",
              "      cursor: pointer;\n",
              "      display: none;\n",
              "      fill: #1967D2;\n",
              "      height: 32px;\n",
              "      padding: 0 0 0 0;\n",
              "      width: 32px;\n",
              "    }\n",
              "\n",
              "    .colab-df-convert:hover {\n",
              "      background-color: #E2EBFA;\n",
              "      box-shadow: 0px 1px 2px rgba(60, 64, 67, 0.3), 0px 1px 3px 1px rgba(60, 64, 67, 0.15);\n",
              "      fill: #174EA6;\n",
              "    }\n",
              "\n",
              "    [theme=dark] .colab-df-convert {\n",
              "      background-color: #3B4455;\n",
              "      fill: #D2E3FC;\n",
              "    }\n",
              "\n",
              "    [theme=dark] .colab-df-convert:hover {\n",
              "      background-color: #434B5C;\n",
              "      box-shadow: 0px 1px 3px 1px rgba(0, 0, 0, 0.15);\n",
              "      filter: drop-shadow(0px 1px 2px rgba(0, 0, 0, 0.3));\n",
              "      fill: #FFFFFF;\n",
              "    }\n",
              "  </style>\n",
              "\n",
              "      <script>\n",
              "        const buttonEl =\n",
              "          document.querySelector('#df-a06718c1-31c0-478e-9173-c4765fe95756 button.colab-df-convert');\n",
              "        buttonEl.style.display =\n",
              "          google.colab.kernel.accessAllowed ? 'block' : 'none';\n",
              "\n",
              "        async function convertToInteractive(key) {\n",
              "          const element = document.querySelector('#df-a06718c1-31c0-478e-9173-c4765fe95756');\n",
              "          const dataTable =\n",
              "            await google.colab.kernel.invokeFunction('convertToInteractive',\n",
              "                                                     [key], {});\n",
              "          if (!dataTable) return;\n",
              "\n",
              "          const docLinkHtml = 'Like what you see? Visit the ' +\n",
              "            '<a target=\"_blank\" href=https://colab.research.google.com/notebooks/data_table.ipynb>data table notebook</a>'\n",
              "            + ' to learn more about interactive tables.';\n",
              "          element.innerHTML = '';\n",
              "          dataTable['output_type'] = 'display_data';\n",
              "          await google.colab.output.renderOutput(dataTable, element);\n",
              "          const docLink = document.createElement('div');\n",
              "          docLink.innerHTML = docLinkHtml;\n",
              "          element.appendChild(docLink);\n",
              "        }\n",
              "      </script>\n",
              "    </div>\n",
              "  </div>\n",
              "  "
            ],
            "text/plain": [
              "                          review_id  rating\n",
              "0  5c4df7e70e9b438c761f07a4620ccb7c       4\n",
              "1  8eaeaf13213eeb16ad879a2a2591bbe5       3\n",
              "2  dce649b733c153ba5363a0413cac988f       4\n",
              "3  8a46df0bb997269d6834f9437a4b0a77       4\n",
              "4  d11d3091e22f1cf3cb865598de197599       4"
            ]
          },
          "execution_count": 19,
          "metadata": {},
          "output_type": "execute_result"
        }
      ],
      "source": [
        "saida = np.argmax(ypred, axis=1)\n",
        "df_test['rating']=pd.Series(saida)\n",
        "df_test.head()"
      ]
    },
    {
      "cell_type": "code",
      "execution_count": null,
      "metadata": {
        "id": "yv_quig8OjnE"
      },
      "outputs": [],
      "source": [
        "df_test.to_csv('/content/drive/MyDrive/ESGI/DL - Book/submission-CNN-40000-300-5-32-reducedModel.csv', index=False)"
      ]
    }
  ],
  "metadata": {
    "accelerator": "GPU",
    "colab": {
      "machine_shape": "hm",
      "provenance": []
    },
    "gpuClass": "premium",
    "kernelspec": {
      "display_name": "Python 3 (ipykernel)",
      "language": "python",
      "name": "python3"
    },
    "language_info": {
      "codemirror_mode": {
        "name": "ipython",
        "version": 3
      },
      "file_extension": ".py",
      "mimetype": "text/x-python",
      "name": "python",
      "nbconvert_exporter": "python",
      "pygments_lexer": "ipython3",
      "version": "3.10.6"
    },
    "vscode": {
      "interpreter": {
        "hash": "c87e452f8533e3c62d2ea283e92a2272f8b9a6f3e8b134e977737af48d916cf2"
      }
    }
  },
  "nbformat": 4,
  "nbformat_minor": 0
}
